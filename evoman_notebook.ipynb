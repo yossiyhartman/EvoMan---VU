{
 "cells": [
  {
   "cell_type": "code",
   "execution_count": 1,
   "metadata": {},
   "outputs": [
    {
     "name": "stdout",
     "output_type": "stream",
     "text": [
      "pygame 2.6.0 (SDL 2.28.4, Python 3.10.14)\n",
      "Hello from the pygame community. https://www.pygame.org/contribute.html\n"
     ]
    }
   ],
   "source": [
    "# imports framework\n",
    "import sys\n",
    "\n",
    "# imports other libs\n",
    "import numpy as np\n",
    "import os\n",
    "import math\n",
    "import itertools\n",
    "import pandas as pd\n",
    "import sys, os\n",
    "from evoman.environment import Environment\n",
    "from demo_controller import player_controller\n",
    "\n",
    "import random\n",
    "random.seed(10)\n",
    "np.random.seed(10)\n",
    "\n"
   ]
  },
  {
   "cell_type": "code",
   "execution_count": 2,
   "metadata": {},
   "outputs": [],
   "source": [
    "def simulation(env,x):\n",
    "    f,p,e,t = env.play(pcont=x)\n",
    "    return f"
   ]
  },
  {
   "cell_type": "code",
   "execution_count": 3,
   "metadata": {},
   "outputs": [],
   "source": [
    "# evaluation\n",
    "def evaluate(env, x):\n",
    "    return np.array(list(map(lambda y: simulation(env,y), x)))"
   ]
  },
  {
   "cell_type": "code",
   "execution_count": 4,
   "metadata": {},
   "outputs": [],
   "source": [
    "def initialize_population(population_size, lower, upper, n_weights = 265):\n",
    "    return np.random.uniform(lower, upper, (population_size, n_weights))"
   ]
  },
  {
   "cell_type": "code",
   "execution_count": 5,
   "metadata": {},
   "outputs": [],
   "source": [
    "def parent_selection(pop, pop_fit, n_parents, smoothing = 1):\n",
    "    fitness  = pop_fit + smoothing - np.min(pop_fit)\n",
    "\n",
    "    # Fitness proportional selection probability\n",
    "    fps = fitness / np.sum (fitness)\n",
    "\n",
    "    # make a random selection of indices\n",
    "    parent_indices = np.random.choice (np.arange(0,pop.shape[0]), (n_parents,2), p=fps)\n",
    "    return pop [parent_indices]"
   ]
  },
  {
   "cell_type": "code",
   "execution_count": 6,
   "metadata": {},
   "outputs": [],
   "source": [
    "def crossover(parents):\n",
    "    parentsA, parentsB = np.hsplit (parents,2)\n",
    "    roll = np.random.uniform (size = parentsA.shape)\n",
    "    offspring = parentsA * (roll >= 0.5) + parentsB * (roll < 0.5)\n",
    "    # squeeze to get rid of the extra dimension created during parent selecting\n",
    "    return np.squeeze(offspring,1)"
   ]
  },
  {
   "cell_type": "code",
   "execution_count": 7,
   "metadata": {},
   "outputs": [],
   "source": [
    "def survivor_selection(pop, pop_fit, n_pop):\n",
    "    best_fit_indices = np.argsort(pop_fit * -1) # -1 since we are maximizing\n",
    "    survivor_indices = best_fit_indices [:n_pop]\n",
    "    return pop [survivor_indices], pop_fit[survivor_indices]"
   ]
  },
  {
   "cell_type": "code",
   "execution_count": 8,
   "metadata": {},
   "outputs": [],
   "source": [
    "def mutate(pop,min_value,max_value, sigma):\n",
    "    mutation = np.random.normal(0, sigma, size=pop.shape)\n",
    "    new_pop = pop + mutation\n",
    "    new_pop[new_pop>max_value] = max_value\n",
    "    new_pop[new_pop<min_value] = min_value\n",
    "    return new_pop"
   ]
  },
  {
   "cell_type": "code",
   "execution_count": 22,
   "metadata": {},
   "outputs": [
    {
     "name": "stdout",
     "output_type": "stream",
     "text": [
      "\n",
      "MESSAGE: Pygame initialized for simulation.\n"
     ]
    }
   ],
   "source": [
    "experiment_name = 'test1'\n",
    "\n",
    "if not os.path.exists(experiment_name):\n",
    "    os.makedirs(experiment_name)\n",
    "\n",
    "n_hidden_neurons = 10\n",
    "\n",
    "# initializes environment for single objective mode (specialist)  with static enemy and ai player\n",
    "env = Environment(experiment_name=experiment_name,\n",
    "\t\t\t\t  playermode=\"ai\",\n",
    "\t\t\t\t  player_controller=player_controller(n_hidden_neurons),\n",
    "\t\t\t  \t  speed=\"fastest\",\n",
    "\t\t\t\t  enemymode=\"static\",\n",
    "\t\t\t\t  level=2,\n",
    "\t\t\t\t  visuals=False)"
   ]
  },
  {
   "cell_type": "code",
   "execution_count": 25,
   "metadata": {},
   "outputs": [],
   "source": [
    "population_size = 100\n",
    "n_evaluations = 3\n",
    "n_offspring = 50\n",
    "weight_upper_bound = 2\n",
    "weight_lower_bound = -2\n",
    "mutation_sigma = .3\n",
    "generations = 30"
   ]
  },
  {
   "cell_type": "code",
   "execution_count": 26,
   "metadata": {},
   "outputs": [
    {
     "name": "stdout",
     "output_type": "stream",
     "text": [
      "Gen 0 - Best: 39.013547994715566 - Mean: 0.6466610033798699\n",
      "Gen 1 - Best: 39.111122041667116 - Mean: -1.023746877545959\n",
      "Gen 2 - Best: 66.26990021702643 - Mean: -0.6897768843181532\n",
      "Gen 3 - Best: 39.013547994715566 - Mean: 1.5580356724520659\n",
      "Gen 4 - Best: 57.19486503108351 - Mean: 0.8157529373104196\n",
      "Gen 5 - Best: 47.97413402617469 - Mean: 7.01638381406098\n",
      "Gen 6 - Best: 48.1888590070233 - Mean: 1.3757092583772244\n",
      "Gen 7 - Best: 48.269900217026425 - Mean: 1.3726349803509816\n",
      "Gen 8 - Best: 57.01858578874552 - Mean: 2.185870724841304\n",
      "Gen 9 - Best: 39.17991706964764 - Mean: -0.2399541122145032\n",
      "Gen 10 - Best: 39.15067522005314 - Mean: -2.2090409002091196\n",
      "Gen 11 - Best: 39.12226421822036 - Mean: -2.2091604015062773\n",
      "Gen 12 - Best: 39.1888590070233 - Mean: 0.12965380928831835\n",
      "Gen 13 - Best: 39.013547994715566 - Mean: -1.6797632727449285\n",
      "Gen 14 - Best: 39.013547994715566 - Mean: -1.225602751789452\n",
      "Gen 15 - Best: 39.013547994715566 - Mean: -1.0419543346664966\n",
      "Gen 16 - Best: 39.026190388130736 - Mean: -1.3135405226851296\n",
      "Gen 17 - Best: 39.013547994715566 - Mean: -1.2222754841176862\n",
      "Gen 18 - Best: 39.013547994715566 - Mean: -3.2019543346664974\n",
      "Gen 19 - Best: 39.1335319430667 - Mean: -0.8660550083743245\n",
      "Gen 20 - Best: 39.269900217026425 - Mean: -2.5747168684327786\n",
      "Gen 21 - Best: 39.23167900420623 - Mean: -0.32672436940815125\n",
      "Gen 22 - Best: 39.013547994715566 - Mean: -2.482893780814887\n",
      "Gen 23 - Best: 39.013547994715566 - Mean: -1.222202124636218\n",
      "Gen 24 - Best: 39.013547994715566 - Mean: -2.754517856889606\n",
      "Gen 25 - Best: 39.013547994715566 - Mean: -3.921954334666497\n",
      "Gen 26 - Best: 39.17991706964764 - Mean: -2.5747421068532805\n",
      "Gen 27 - Best: 39.013547994715566 - Mean: -3.111954334666497\n",
      "Gen 28 - Best: 39.013547994715566 - Mean: -3.381954334666497\n",
      "Gen 29 - Best: 39.013547994715566 - Mean: -2.751954334666497\n"
     ]
    }
   ],
   "source": [
    "pop = initialize_population(population_size, -2, 2)\n",
    "pop_fitness = evaluate(env, pop)\n",
    "\n",
    "for i in range (generations):\n",
    "    parents=parent_selection(pop, pop_fitness, len(pop_fitness), smoothing = 1)\n",
    "    offspring = crossover (parents)\n",
    "    offspring = mutate (offspring, weight_lower_bound, weight_upper_bound, mutation_sigma)\n",
    "    offspring_fit = evaluate(env, offspring)\n",
    "    pop = np.vstack((pop,offspring))\n",
    "    pop_fit = np.concatenate([pop_fitness,offspring_fit])\n",
    "    pop, pop_fit = survivor_selection(pop, pop_fit, population_size)\n",
    "    print (f\"Gen {i} - Best: {np.max (pop_fit)} - Mean: {np.mean(pop_fit)}\")"
   ]
  },
  {
   "cell_type": "code",
   "execution_count": 18,
   "metadata": {},
   "outputs": [],
   "source": [
    "fittest_index = np.argmax (pop_fit)\n",
    "fittest_individual = pop[fittest_index]\n"
   ]
  },
  {
   "cell_type": "code",
   "execution_count": 19,
   "metadata": {},
   "outputs": [
    {
     "name": "stdout",
     "output_type": "stream",
     "text": [
      "\n",
      "MESSAGE: Pygame initialized for simulation.\n",
      "\n",
      "PARAMETER CHANGE: enemies = [1]\n",
      "\n",
      "  \n",
      "\n"
     ]
    }
   ],
   "source": [
    "#Play with winner\n",
    "\n",
    "sol = fittest_individual\n",
    "\n",
    "env = Environment(experiment_name=experiment_name,\n",
    "\t\t\t\t  playermode=\"ai\",\n",
    "\t\t\t\t  player_controller=player_controller(n_hidden_neurons),\n",
    "\t\t\t  \t  speed=\"normal\",\n",
    "\t\t\t\t  enemymode=\"static\",\n",
    "\t\t\t\t  level=2,\n",
    "\t\t\t\t  visuals=True)\n",
    "\n",
    "# tests saved demo solutions for each enemy\n",
    "enemy_list = [1]\n",
    "for en in enemy_list:\n",
    "\t\n",
    "\t#Update the enemy\n",
    "\tenv.update_parameter('enemies',[en])\n",
    "\n",
    "\tenv.play(sol)\n",
    "\n",
    "print('\\n  \\n')"
   ]
  },
  {
   "cell_type": "code",
   "execution_count": null,
   "metadata": {},
   "outputs": [],
   "source": []
  }
 ],
 "metadata": {
  "kernelspec": {
   "display_name": ".venv",
   "language": "python",
   "name": "python3"
  },
  "language_info": {
   "codemirror_mode": {
    "name": "ipython",
    "version": 3
   },
   "file_extension": ".py",
   "mimetype": "text/x-python",
   "name": "python",
   "nbconvert_exporter": "python",
   "pygments_lexer": "ipython3",
   "version": "3.10.14"
  }
 },
 "nbformat": 4,
 "nbformat_minor": 2
}
